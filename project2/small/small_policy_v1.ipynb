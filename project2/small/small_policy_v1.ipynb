{
 "cells": [
  {
   "cell_type": "markdown",
   "metadata": {},
   "source": [
    "## Small Policy v1\n",
    "Given 10x10 grid world, (s, a, r, sp) data, find optimal policy\n",
    "\n",
    "Lisa Fung\n",
    "\n",
    "Last Updated: 11/8/24"
   ]
  },
  {
   "cell_type": "markdown",
   "metadata": {},
   "source": [
    "### Main functions"
   ]
  },
  {
   "cell_type": "code",
   "execution_count": 1,
   "metadata": {},
   "outputs": [],
   "source": [
    "import numpy as np\n",
    "import pandas as pd\n",
    "import matplotlib.pyplot as plt"
   ]
  },
  {
   "cell_type": "code",
   "execution_count": 2,
   "metadata": {},
   "outputs": [],
   "source": [
    "small_data = pd.read_csv(\"../data/small.csv\")"
   ]
  },
  {
   "cell_type": "code",
   "execution_count": 3,
   "metadata": {},
   "outputs": [],
   "source": [
    "# Timing function\n",
    "import time\n",
    "from functools import wraps\n",
    "\n",
    "def time_it(func):\n",
    "    @wraps(func)\n",
    "    def wrapper(*args, **kwargs):\n",
    "        start_time = time.time()\n",
    "        result = func(*args, **kwargs)\n",
    "        elapsed_time = time.time() - start_time\n",
    "        print(f\"Function '{func.__name__}' executed in {elapsed_time:.6f} seconds\")\n",
    "        return result, elapsed_time\n",
    "    return wrapper"
   ]
  },
  {
   "cell_type": "code",
   "execution_count": 4,
   "metadata": {},
   "outputs": [
    {
     "name": "stdout",
     "output_type": "stream",
     "text": [
      "Function 'estimate_transitions' executed in 0.052860 seconds\n"
     ]
    },
    {
     "name": "stderr",
     "output_type": "stream",
     "text": [
      "C:\\Users\\lisaf\\AppData\\Local\\Temp\\ipykernel_2272\\429732448.py:15: RuntimeWarning: invalid value encountered in divide\n",
      "  T /= np.sum(T, axis=2, keepdims=True)\n"
     ]
    }
   ],
   "source": [
    "n_states = 100\n",
    "n_actions = 4\n",
    "\n",
    "@time_it\n",
    "def estimate_transitions():\n",
    "    # Estimate T(sp | s, a) in transition matrix T(s, a, sp)\n",
    "    T = np.zeros((n_states + 1, n_actions + 1, n_states + 1))\n",
    "\n",
    "    # Find counts N(s, a, sp)\n",
    "    grouped_T = small_data.set_index(['s', 'a', 'sp']).groupby(by=['s', 'a', 'sp']).count()\n",
    "    for indices, row in grouped_T.iterrows():\n",
    "        T[indices] = row.iloc[0]\n",
    "\n",
    "    # Normalize along next state (sp) dimension to divide by N(s, a)\n",
    "    T /= np.sum(T, axis=2, keepdims=True)\n",
    "    T = np.nan_to_num(T, nan=0.0)   # convert nan to 0.0\n",
    "    return T\n",
    "\n",
    "T, time_T = estimate_transitions()"
   ]
  },
  {
   "cell_type": "code",
   "execution_count": 5,
   "metadata": {},
   "outputs": [
    {
     "name": "stdout",
     "output_type": "stream",
     "text": [
      "Function 'get_rewards' executed in 0.000000 seconds\n"
     ]
    }
   ],
   "source": [
    "@time_it\n",
    "def get_rewards():\n",
    "    # Set rewards R(s, a) = R(s), only depends on current state\n",
    "    R = np.zeros((n_states + 1))\n",
    "    R[47] = 10\n",
    "    R[82] = 3\n",
    "    return R\n",
    "\n",
    "R, time_R = get_rewards()"
   ]
  },
  {
   "cell_type": "code",
   "execution_count": 6,
   "metadata": {},
   "outputs": [],
   "source": [
    "# Value Iteration\n",
    "\n",
    "def grid_display(x):\n",
    "    # print(x[1:].reshape(10, 10))\n",
    "    plt.matshow(x[1:].reshape(10, 10))\n",
    "    plt.colorbar()\n",
    "    plt.savefig(\"small_value_fct.png\", dpi=300)\n",
    "\n",
    "@time_it\n",
    "def value_iteration(U, n_iters=100, discount=0.95, threshold=1e-3):\n",
    "    # Update U with intermediate state updates instead of one iteration at a time\n",
    "    for i in range(n_iters):\n",
    "        residual = 0    # Maximum change in value among all U[s]\n",
    "        for s in range(1, n_states+1):\n",
    "            max_Us = 0\n",
    "            for a in range(1, n_actions+1):\n",
    "                later_rewards = sum([T[s, a, sp] * U[sp] for sp in range(1, n_states+1)])\n",
    "                max_Us = max(max_Us, R[s] + discount * later_rewards)\n",
    "            residual = max(residual, abs(U[s] - max_Us))\n",
    "            U[s] = max_Us\n",
    "        if residual < threshold:\n",
    "            print(f\"Value iteration converged within threshold {threshold} at iteration {i}\\n\")\n",
    "            break\n",
    "    return U\n"
   ]
  },
  {
   "cell_type": "code",
   "execution_count": 7,
   "metadata": {},
   "outputs": [
    {
     "name": "stdout",
     "output_type": "stream",
     "text": [
      "Value iteration converged within threshold 0.001 at iteration 89\n",
      "\n",
      "Function 'value_iteration' executed in 1.297314 seconds\n"
     ]
    },
    {
     "data": {
      "image/png": "[encoded data removed]",
      "text/plain": [
       "<Figure size 480x480 with 2 Axes>"
      ]
     },
     "metadata": {},
     "output_type": "display_data"
    }
   ],
   "source": [
    "U = np.zeros(n_states + 1)  # Value function, U(s)\n",
    "U_updated, time_valueiter = value_iteration(U, n_iters=100)\n",
    "grid_display(U_updated)\n"
   ]
  },
  {
   "cell_type": "code",
   "execution_count": 8,
   "metadata": {},
   "outputs": [
    {
     "name": "stdout",
     "output_type": "stream",
     "text": [
      "Function 'extract_policy' executed in 0.013004 seconds\n"
     ]
    }
   ],
   "source": [
    "# Extract optimal policy pi(s) = a from value function U(s)\n",
    "@time_it\n",
    "def extract_policy(U, discount=0.95):\n",
    "    policy = np.zeros(n_states+1)\n",
    "    for s in range(1, n_states+1):\n",
    "        max_action = 0\n",
    "        max_action_value = -float('inf')\n",
    "        for a in range(1, n_actions+1):\n",
    "            later_rewards = sum([T[s, a, sp] * U[sp] for sp in range(1, n_states+1)])\n",
    "            curr_action_value = R[s] + discount * later_rewards\n",
    "            if curr_action_value > max_action_value:\n",
    "                max_action = a\n",
    "                max_action_value = curr_action_value\n",
    "        policy[s] = max_action\n",
    "\n",
    "    return policy\n",
    "\n",
    "best_policy, time_extractpolicy = extract_policy(U_updated)"
   ]
  },
  {
   "cell_type": "code",
   "execution_count": 9,
   "metadata": {},
   "outputs": [
    {
     "data": {
      "text/plain": [
       "1.310416"
      ]
     },
     "execution_count": 9,
     "metadata": {},
     "output_type": "execute_result"
    }
   ],
   "source": [
    "small_time = 0.070039 + 1.226796 + 0.013581\n",
    "small_time"
   ]
  },
  {
   "cell_type": "markdown",
   "metadata": {},
   "source": [
    "### Data Exploration"
   ]
  },
  {
   "cell_type": "code",
   "execution_count": null,
   "metadata": {},
   "outputs": [],
   "source": []
  },
  {
   "cell_type": "code",
   "execution_count": 10,
   "metadata": {},
   "outputs": [],
   "source": [
    "# small_data.head()\n",
    "# small_data.describe()\n",
    "# small_data.hist()\n",
    "# [print(col, small_data[col].value_counts()) for col in small_data.columns]"
   ]
  },
  {
   "cell_type": "markdown",
   "metadata": {},
   "source": [
    "Small Data Information\n",
    "- States s: [1, 100], all seen\n",
    "- Actions a: [1, 4], all seen\n",
    "    - 1: left, 2: right, 3: up, 4: down\n",
    "- Rewards r: {0, 3, 10}\n",
    "- Next states sp: [1, 100]"
   ]
  },
  {
   "cell_type": "code",
   "execution_count": 11,
   "metadata": {},
   "outputs": [
    {
     "data": {
      "text/plain": [
       "s   a  r \n",
       "82  2  3     154\n",
       "    4  3     137\n",
       "    3  3     135\n",
       "47  1  10    128\n",
       "    3  10    125\n",
       "    2  10    113\n",
       "    4  10    113\n",
       "82  1  3     105\n",
       "Name: count, dtype: int64"
      ]
     },
     "execution_count": 11,
     "metadata": {},
     "output_type": "execute_result"
    }
   ],
   "source": [
    "# Find R(s, a) > 0\n",
    "small_data_pos_rewards = small_data[small_data['r'] > 0]    # Subset of small data with positive R(s, a)\n",
    "\n",
    "# Find states, actions with positive rewards\n",
    "# R(82, a) = 3\n",
    "# R(47, a) = 10\n",
    "small_data_pos_rewards[['s', 'a', 'r']].value_counts()"
   ]
  },
  {
   "cell_type": "markdown",
   "metadata": {},
   "source": [
    "Optimal policy intuition: move toward 47, collect 82 along the way if possible\n",
    "- $R(82, a) = 3$\n",
    "- $R(47, a) = 10$\n",
    "- $R(s, a) = 0$  $\\forall s \\neq 82, 47$"
   ]
  },
  {
   "cell_type": "markdown",
   "metadata": {},
   "source": [
    "### Approach"
   ]
  },
  {
   "cell_type": "markdown",
   "metadata": {},
   "source": [
    "1. Estimate transitions $T(s' | s, a)$ using **Maximum Likelihood Estimation** (Note: no exploration)\n",
    "2. Set rewards $R(s, a)$ with $R(47, a) = 10$, $R(82, a) = 3$, all other $R(s, a) = 0$\n",
    "3. Find optimal policy $\\pi^*$ using **Value Iteration**\n",
    "\n",
    "    a. Find $U^*(s)$ by updating $$U_{k+1}(s) = \\max_a ( R(s,a) + \\gamma * \\sum_{s'} T(s' | s,a) \\cdot U_k(s'))$$ until convergence when maximum change in value $||U_{k+1} - U_{k}||_{\\infty} < \\delta$\n",
    "\n",
    "    b. Extract $\\pi^*$ with $\\pi^*(s) = \\argmax_a ( R(s,a) + \\gamma * \\sum_{s'} T(s' | s,a) \\cdot U^*(s') )$\n"
   ]
  },
  {
   "cell_type": "code",
   "execution_count": 12,
   "metadata": {},
   "outputs": [
    {
     "name": "stderr",
     "output_type": "stream",
     "text": [
      "C:\\Users\\lisaf\\AppData\\Local\\Temp\\ipykernel_2272\\114878306.py:13: RuntimeWarning: invalid value encountered in divide\n",
      "  T /= np.sum(T, axis=2, keepdims=True)\n"
     ]
    }
   ],
   "source": [
    "n_states = 100\n",
    "n_actions = 4\n",
    "\n",
    "# Estimate T(sp | s, a) in transition matrix T(s, a, sp)\n",
    "T = np.zeros((n_states + 1, n_actions + 1, n_states + 1))\n",
    "\n",
    "# Find counts N(s, a, sp)\n",
    "grouped_T = small_data.set_index(['s', 'a', 'sp']).groupby(by=['s', 'a', 'sp']).count()\n",
    "for indices, row in grouped_T.iterrows():\n",
    "    T[indices] = row.iloc[0]\n",
    "\n",
    "# Normalize along next state (sp) dimension to divide by N(s, a)\n",
    "T /= np.sum(T, axis=2, keepdims=True)\n",
    "T = np.nan_to_num(T, nan=0.0)   # convert nan to 0.0"
   ]
  },
  {
   "cell_type": "code",
   "execution_count": 13,
   "metadata": {},
   "outputs": [],
   "source": [
    "# Set rewards R(s, a) = R(s), only depends on current state\n",
    "R = np.zeros((n_states + 1))\n",
    "R[47] = 10\n",
    "R[82] = 3"
   ]
  },
  {
   "cell_type": "code",
   "execution_count": 14,
   "metadata": {},
   "outputs": [],
   "source": [
    "# Value Iteration\n",
    "\n",
    "def grid_display(x):\n",
    "    # print(x[1:].reshape(10, 10))\n",
    "    plt.matshow(x[1:].reshape(10, 10))\n",
    "    plt.colorbar()\n",
    "    plt.show()\n",
    "\n",
    "def value_iteration(U, n_iters=100, discount=0.95, threshold=1e-3):\n",
    "    # Update U with intermediate state updates instead of one iteration at a time\n",
    "    for i in range(n_iters):\n",
    "        residual = 0    # Maximum change in value among all U[s]\n",
    "        for s in range(1, n_states+1):\n",
    "            max_Us = 0\n",
    "            for a in range(1, n_actions+1):\n",
    "                later_rewards = sum([T[s, a, sp] * U[sp] for sp in range(1, n_states+1)])\n",
    "                max_Us = max(max_Us, R[s] + discount * later_rewards)\n",
    "            residual = max(residual, abs(U[s] - max_Us))\n",
    "            U[s] = max_Us\n",
    "        if residual < threshold:\n",
    "            print(f\"Value iteration converged within threshold {threshold} at iteration {i}\\n\")\n",
    "            break\n",
    "    return U"
   ]
  },
  {
   "cell_type": "code",
   "execution_count": 15,
   "metadata": {},
   "outputs": [
    {
     "data": {
      "image/png": "[encoded data removed]",
      "text/plain": [
       "<Figure size 480x480 with 2 Axes>"
      ]
     },
     "metadata": {},
     "output_type": "display_data"
    }
   ],
   "source": [
    "U = np.zeros(n_states + 1)  # Value function, U(s)\n",
    "# U_updated = value_iteration(U, n_iters=100)\n",
    "grid_display(U_updated)"
   ]
  },
  {
   "cell_type": "code",
   "execution_count": 16,
   "metadata": {},
   "outputs": [],
   "source": [
    "# Extract optimal policy pi(s) = a from value function U(s)\n",
    "\n",
    "def extract_policy(U, discount=0.95):\n",
    "    policy = np.zeros(n_states+1)\n",
    "    for s in range(1, n_states+1):\n",
    "        max_action = 0\n",
    "        max_action_value = -float('inf')\n",
    "        for a in range(1, n_actions+1):\n",
    "            later_rewards = sum([T[s, a, sp] * U[sp] for sp in range(1, n_states+1)])\n",
    "            curr_action_value = R[s] + discount * later_rewards\n",
    "            if curr_action_value > max_action_value:\n",
    "                max_action = a\n",
    "                max_action_value = curr_action_value\n",
    "        policy[s] = max_action\n",
    "\n",
    "    return policy"
   ]
  },
  {
   "cell_type": "code",
   "execution_count": 17,
   "metadata": {},
   "outputs": [],
   "source": [
    "best_policy = extract_policy(U_updated)"
   ]
  },
  {
   "cell_type": "code",
   "execution_count": 18,
   "metadata": {},
   "outputs": [
    {
     "data": {
      "text/plain": [
       "array([0., 2., 2., 2., 2., 3., 3., 3., 3., 3., 3., 2., 2., 2., 2., 3., 3.,\n",
       "       3., 3., 3., 1., 2., 2., 2., 2., 3., 3., 3., 3., 1., 1., 2., 2., 2.,\n",
       "       2., 2., 2., 3., 3., 1., 1., 2., 2., 2., 2., 2., 2., 3., 1., 1., 1.,\n",
       "       2., 2., 2., 2., 2., 2., 4., 1., 1., 1., 2., 2., 2., 4., 4., 4., 4.,\n",
       "       4., 1., 1., 2., 4., 2., 4., 4., 4., 4., 4., 1., 1., 2., 2., 4., 2.,\n",
       "       4., 4., 4., 4., 4., 4., 4., 4., 4., 4., 4., 4., 4., 4., 1., 4.])"
      ]
     },
     "execution_count": 18,
     "metadata": {},
     "output_type": "execute_result"
    }
   ],
   "source": [
    "best_policy"
   ]
  },
  {
   "cell_type": "code",
   "execution_count": 19,
   "metadata": {},
   "outputs": [],
   "source": [
    "with open(\"small.policy\", \"w\") as file:\n",
    "    for a in best_policy[1:]:\n",
    "        file.write(f\"{int(a)}\\n\")"
   ]
  },
  {
   "cell_type": "code",
   "execution_count": null,
   "metadata": {},
   "outputs": [],
   "source": []
  }
 ],
 "metadata": {
  "kernelspec": {
   "display_name": "venv",
   "language": "python",
   "name": "python3"
  },
  "language_info": {
   "codemirror_mode": {
    "name": "ipython",
    "version": 3
   },
   "file_extension": ".py",
   "mimetype": "text/x-python",
   "name": "python",
   "nbconvert_exporter": "python",
   "pygments_lexer": "ipython3",
   "version": "3.11.1"
  }
 },
 "nbformat": 4,
 "nbformat_minor": 2
}
