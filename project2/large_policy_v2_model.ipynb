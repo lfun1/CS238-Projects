{
 "cells": [
  {
   "cell_type": "markdown",
   "metadata": {},
   "source": [
    "## Large Policy v2: Model-based approach\n",
    "\n",
    "Given unknown `(s, a, r, sp)` data, find optimal policy. Not all `(s, a)` pairs will be seen in data, so interpolate from neighbors.\n",
    "- States: |S| = 302020\n",
    "- Actions: 9 actions\n",
    "- Discount factor = 0.95\n",
    "\n",
    "Lisa Fung\n",
    "\n",
    "Last Updated: 11/9/24"
   ]
  },
  {
   "cell_type": "markdown",
   "metadata": {},
   "source": [
    "### Data Exploration"
   ]
  },
  {
   "cell_type": "code",
   "execution_count": 1,
   "metadata": {},
   "outputs": [],
   "source": [
    "import numpy as np\n",
    "import pandas as pd\n",
    "import matplotlib.pyplot as plt"
   ]
  },
  {
   "cell_type": "code",
   "execution_count": 2,
   "metadata": {},
   "outputs": [],
   "source": [
    "large_data = pd.read_csv(\"./data/large.csv\")\n",
    "n_states = 302020\n",
    "n_actions = 9\n",
    "# n_limit_actions = 5"
   ]
  },
  {
   "cell_type": "markdown",
   "metadata": {},
   "source": [
    "Large Data Observations\n",
    "\n",
    "Rewards\n",
    "- Only 7 unique values: [-10  -5   0   5  10  50 100]\n",
    "- r=100 only at states sp = 301013, 301111, via actions [1,4]\n",
    "- sp = 301013\n",
    "    - s=301012, a=1 (delta_s = +1)\n",
    "    - s=301014, a=2 (delta_s = -1)\n",
    "    - s=301113, a=3 (delta_s = -100)\n",
    "    - s=300413, a=4 (delta_s = +600)\n",
    "- sp = 301111\n",
    "    - s=301110, a=1 (delta_s = +1)\n",
    "    - s=301112, a=2 (delta_s = -1)\n",
    "    - s=301211, a=3 (delta_s = -100)\n",
    "    - s=301011, a=4 (delta_s = +100)\n",
    "\n",
    "\n",
    "Actions\n",
    "- a = [1,4] are probabilistic\n",
    "- a = [5,9] are usually 0, occasionally random\n",
    "    ```"
   ]
  },
  {
   "cell_type": "markdown",
   "metadata": {},
   "source": [
    "### Approach\n",
    "\n",
    "- Transition Model: $T(s' - s \\mid a)$\n",
    "- Rewards: $R(s, s')$\n",
    "- Only take actions $a = 1,2,3,4,5$\n"
   ]
  },
  {
   "cell_type": "markdown",
   "metadata": {},
   "source": [
    "#### Transition Model\n",
    "\n",
    "$T(a, \\Delta s) = T(\\Delta s \\mid a)$\n",
    "- $|\\Delta s| = 9$, $|A| = 5$"
   ]
  },
  {
   "cell_type": "code",
   "execution_count": 3,
   "metadata": {},
   "outputs": [],
   "source": [
    "large_data['delta_s'] = large_data['sp'] - large_data['s']  # delta_s = sp - s\n",
    "\n",
    "# Only keep delta_s for actions [1, 4] and 0\n",
    "# array([-600, -100,   -6,   -1,    0,    1,    6,  100,  600])\n",
    "delta_s_list = np.sort(large_data[large_data['a'] == 1]['delta_s'].unique())"
   ]
  },
  {
   "cell_type": "code",
   "execution_count": 4,
   "metadata": {},
   "outputs": [
    {
     "data": {
      "text/plain": [
       "(6, 9)"
      ]
     },
     "execution_count": 4,
     "metadata": {},
     "output_type": "execute_result"
    }
   ],
   "source": [
    "n_delta_s = 9\n",
    "n_limit_actions = 5\n",
    "\n",
    "T = np.zeros((n_limit_actions+1, n_delta_s))\n",
    "T.shape"
   ]
  },
  {
   "cell_type": "code",
   "execution_count": 5,
   "metadata": {},
   "outputs": [],
   "source": [
    "large_data_a_delta_s = large_data[large_data['delta_s'].isin(delta_s_list)][['a', 'delta_s']].value_counts().sort_index(level=[0,1])"
   ]
  },
  {
   "cell_type": "code",
   "execution_count": 6,
   "metadata": {},
   "outputs": [],
   "source": [
    "# Aggregate transition counts\n",
    "for (a, delta_s), count in large_data_a_delta_s.items():\n",
    "    # row: ((a, delta_s), count)\n",
    "    if a <= n_limit_actions:\n",
    "        delta_s_idx = np.where(delta_s_list == delta_s)[0][0]\n",
    "        T[a, delta_s_idx] = count"
   ]
  },
  {
   "cell_type": "code",
   "execution_count": 7,
   "metadata": {},
   "outputs": [
    {
     "name": "stderr",
     "output_type": "stream",
     "text": [
      "C:\\Users\\lisaf\\AppData\\Local\\Temp\\ipykernel_8884\\2452209420.py:2: RuntimeWarning: invalid value encountered in divide\n",
      "  T /= np.sum(T, axis=1, keepdims=True)\n"
     ]
    }
   ],
   "source": [
    "# Normalize along next state (sp) dimension to divide by N(s, a)\n",
    "T /= np.sum(T, axis=1, keepdims=True)\n",
    "T = np.nan_to_num(T, nan=0.0)   # convert nan to 0.0"
   ]
  },
  {
   "cell_type": "markdown",
   "metadata": {},
   "source": [
    "Reward Model\n",
    "- $R(s, s')$ uniquely determines reward value\n",
    "- Previously: large sparse array to hold rewards\n",
    "- Update: Dictionary `((s, sp) : r)` to hold nonzero rewards"
   ]
  },
  {
   "cell_type": "code",
   "execution_count": 8,
   "metadata": {},
   "outputs": [
    {
     "data": {
      "text/plain": [
       "array([-10,  -5,   0,   5,  10,  50, 100])"
      ]
     },
     "execution_count": 8,
     "metadata": {},
     "output_type": "execute_result"
    }
   ],
   "source": [
    "rewards_list = np.sort(large_data['r'].unique())\n",
    "rewards_list"
   ]
  },
  {
   "cell_type": "code",
   "execution_count": 9,
   "metadata": {},
   "outputs": [],
   "source": [
    "# for r in rewards_list[0:1]:\n",
    "#     print(f\"Reward r = {r}:\")\n",
    "#     print(large_data[large_data['r'] == r][['s', 'sp', 'a', 'r']].value_counts().sort_index())\n",
    "#     print(large_data[large_data['sp'] == 301112][['s', 'sp']].value_counts())"
   ]
  },
  {
   "cell_type": "code",
   "execution_count": 37,
   "metadata": {},
   "outputs": [
    {
     "data": {
      "text/plain": [
       "array([1])"
      ]
     },
     "execution_count": 37,
     "metadata": {},
     "output_type": "execute_result"
    }
   ],
   "source": [
    "# Determine if any (s, sp) pair has different rewards\n",
    "# Answer: no. Reward is uniquely determined by R(s, sp)\n",
    "large_data.groupby(['s', 'sp'])['r'].nunique().unique()"
   ]
  },
  {
   "cell_type": "code",
   "execution_count": 32,
   "metadata": {},
   "outputs": [],
   "source": [
    "states_list = np.sort(large_data['s'].unique())\n",
    "n_seen_states = len(states_list)    # 500\n",
    "\n",
    "# R = np.zeros((n_seen_states, n_seen_states))\n",
    "# Large sparse array for R:\n",
    "# R = large_data.pivot_table(index='s', columns='sp', values='r', aggfunc='first').to_numpy()"
   ]
  },
  {
   "cell_type": "code",
   "execution_count": null,
   "metadata": {},
   "outputs": [
    {
     "data": {
      "text/plain": [
       "np.float64(100.0)"
      ]
     },
     "execution_count": 12,
     "metadata": {},
     "output_type": "execute_result"
    }
   ],
   "source": [
    "# large_data.pivot_table(index='sp', columns='s', values='r', aggfunc='first')[300413][301013]\n",
    "# # large_data[(large_data['s'] == 300413) & (large_data['sp'] == 301013)]\n",
    "\n",
    "# Check R indices\n",
    "test_s = 301014\n",
    "test_s_idx = np.where(states_list == test_s)[0][0]\n",
    "test_sp = 301013\n",
    "test_sp_idx = np.where(states_list == test_sp)[0][0]\n",
    "# R[test_s_idx, test_sp_idx]"
   ]
  },
  {
   "cell_type": "code",
   "execution_count": 43,
   "metadata": {},
   "outputs": [
    {
     "data": {
      "text/plain": [
       "64"
      ]
     },
     "execution_count": 43,
     "metadata": {},
     "output_type": "execute_result"
    }
   ],
   "source": [
    "# Rewards as dictionary with (s, sp) : r\n",
    "large_data_rewards = large_data[large_data['r'] != 0]\n",
    "R_dict = large_data_rewards.set_index(['s', 'sp'])['r'].to_dict()\n",
    "len(R_dict)"
   ]
  },
  {
   "cell_type": "markdown",
   "metadata": {},
   "source": [
    "#### Actions"
   ]
  },
  {
   "cell_type": "code",
   "execution_count": 13,
   "metadata": {},
   "outputs": [
    {
     "data": {
      "text/plain": [
       "array([1, 2, 3, 4, 5])"
      ]
     },
     "execution_count": 13,
     "metadata": {},
     "output_type": "execute_result"
    }
   ],
   "source": [
    "actions_list = np.arange(1, n_limit_actions+1)\n",
    "actions_list"
   ]
  },
  {
   "cell_type": "markdown",
   "metadata": {},
   "source": [
    "#### Value Iteration\n",
    "1. Find optimal policy $\\pi^*$ using **Value Iteration**\n",
    "\n",
    "    a. Find $U^*(s)$ by updating $U_{k+1}(s) = \\max_a ( R(s,a) + \\gamma * \\sum_{s'} T(s' | s,a) \\cdot U_k(s'))$ until convergence when maximum change in value $||U_{k+1} - U_{k}||_{\\infty} < \\delta$. Since $R(s, a) = R(s, s')$, we use \n",
    "    $$U_{k+1}(s) = \\max_a Q(s, a) = \\max_a ( \\sum_{s'} T(s' | s,a) \\cdot [R(s,s') + \\gamma \\cdot U_k(s')])$$\n",
    "\n",
    "    b. Extract $\\pi^*$ with $\\pi^*(s) = \\argmax_a ( R(s,a) + \\gamma * \\sum_{s'} T(s' | s,a) \\cdot U^*(s') )$"
   ]
  },
  {
   "cell_type": "code",
   "execution_count": null,
   "metadata": {},
   "outputs": [],
   "source": [
    "# Test code for value iteration logic\n",
    "def test_value_iter_logic():\n",
    "    for s_idx, s in enumerate([301113]):\n",
    "        print(\"State s:\", s)\n",
    "        for a in actions_list[0:1]:\n",
    "            for delta_s_idx, delta_s in enumerate(delta_s_list):\n",
    "                sp = s + delta_s\n",
    "                print(\"State sp:\", sp)\n",
    "                print(\"Delta_s:\", delta_s_idx, delta_s)\n",
    "                print(\"T(sp | s, a):\", T[a, delta_s_idx])\n",
    "                print(\"R(s, sp):\", R_dict[(s, sp)] if (s, sp) in R_dict else None)\n",
    "                \n",
    "                print()\n",
    "    # print([delta_s+states_list[0] in states_list for delta_s in delta_s_list])"
   ]
  },
  {
   "cell_type": "code",
   "execution_count": 56,
   "metadata": {},
   "outputs": [],
   "source": [
    "def value_iteration(U, n_iters=100, discount=0.95, threshold=1e-3):\n",
    "    # Update U with intermediate state updates instead of one iteration at a time\n",
    "    residual = 0\n",
    "    for i in range(n_iters):\n",
    "        residual = 0    # Maximum change in value among all U[s]\n",
    "        for s in range(1, len(U)):  # Iterate through all states\n",
    "            max_Us = 0\n",
    "            for a in actions_list:\n",
    "                Q_sa = 0\n",
    "                for delta_s_idx, delta_s in enumerate(delta_s_list):\n",
    "                    sp = s + delta_s\n",
    "                    # Ignoring edge cases where action goes out of bounds (0 reward)\n",
    "                    if sp > 0 and sp < len(U):\n",
    "                        r = R_dict[(s, sp)] if (s, sp) in R_dict else 0\n",
    "                        Q_sa += T[a, delta_s_idx] * (r + discount * U[sp])\n",
    "                max_Us = max(max_Us, Q_sa)\n",
    "            residual = max(residual, abs(U[s] - max_Us))\n",
    "            U[s] = max_Us\n",
    "        if residual < threshold:\n",
    "            print(f\"Value iteration converged within threshold {threshold} at iteration {i}\\n\")\n",
    "            break\n",
    "    return U, residual"
   ]
  },
  {
   "cell_type": "markdown",
   "metadata": {},
   "source": [
    "### Extract Policy from Value Function U"
   ]
  },
  {
   "cell_type": "code",
   "execution_count": 54,
   "metadata": {},
   "outputs": [],
   "source": [
    "U = np.zeros(n_states+1)"
   ]
  },
  {
   "cell_type": "code",
   "execution_count": 57,
   "metadata": {},
   "outputs": [],
   "source": [
    "U_updated, residual = value_iteration(U)"
   ]
  },
  {
   "cell_type": "code",
   "execution_count": null,
   "metadata": {},
   "outputs": [
    {
     "data": {
      "text/plain": [
       "np.int64(302021)"
      ]
     },
     "execution_count": 58,
     "metadata": {},
     "output_type": "execute_result"
    }
   ],
   "source": [
    "np.save(\"large_U_value_iteration_100iters.npy\", U_updated)\n",
    "loaded_arr = np.load(\"large_U_value_iteration_100iters.npy\")\n",
    "# sum(U_updated == loaded_arr)"
   ]
  },
  {
   "cell_type": "code",
   "execution_count": 59,
   "metadata": {},
   "outputs": [],
   "source": [
    "# Extract optimal policy pi(s) = a from value function U(s)\n",
    "\n",
    "def extract_policy(U, discount=0.95):\n",
    "    policy = np.zeros(n_states+1)\n",
    "    for s in range(1, n_states+1):\n",
    "        max_action = 0\n",
    "        max_action_value = -float('inf')\n",
    "        for a in actions_list:\n",
    "            Q_sa = 0\n",
    "            for delta_s_idx, delta_s in enumerate(delta_s_list):\n",
    "                sp = s + delta_s\n",
    "                # Ignoring edge cases where action goes out of bounds (0 reward)\n",
    "                if sp > 0 and sp < len(U):\n",
    "                    r = R_dict[(s, sp)] if (s, sp) in R_dict else 0\n",
    "                    Q_sa += T[a, delta_s_idx] * (r + discount * U[sp])\n",
    "            if Q_sa > max_action_value:\n",
    "                max_action = a\n",
    "                max_action_value = Q_sa\n",
    "        policy[s] = max_action\n",
    "\n",
    "    return policy"
   ]
  },
  {
   "cell_type": "code",
   "execution_count": 60,
   "metadata": {},
   "outputs": [],
   "source": [
    "optimal_policy = extract_policy(U)"
   ]
  },
  {
   "cell_type": "code",
   "execution_count": 61,
   "metadata": {},
   "outputs": [
    {
     "data": {
      "text/plain": [
       "(array([0., 1., 2., 3., 4.]), array([     1,  99385,   7153,  80213, 115269]))"
      ]
     },
     "execution_count": 61,
     "metadata": {},
     "output_type": "execute_result"
    }
   ],
   "source": [
    "np.unique(optimal_policy, return_counts=True)"
   ]
  },
  {
   "cell_type": "code",
   "execution_count": 62,
   "metadata": {},
   "outputs": [],
   "source": [
    "# Write optimal policy to file\n",
    "with open(\"large.policy\", \"w\") as file:\n",
    "    for a in optimal_policy[1:]:\n",
    "        file.write(f\"{int(a)}\\n\")"
   ]
  },
  {
   "cell_type": "code",
   "execution_count": 64,
   "metadata": {},
   "outputs": [
    {
     "data": {
      "text/plain": [
       "[<matplotlib.lines.Line2D at 0x217e5c7f0d0>]"
      ]
     },
     "execution_count": 64,
     "metadata": {},
     "output_type": "execute_result"
    },
    {
     "data": {
      "image/png": "[encoded data removed]",
      "text/plain": [
       "<Figure size 640x480 with 1 Axes>"
      ]
     },
     "metadata": {},
     "output_type": "display_data"
    }
   ],
   "source": [
    "plt.plot(optimal_policy)"
   ]
  },
  {
   "cell_type": "code",
   "execution_count": null,
   "metadata": {},
   "outputs": [],
   "source": []
  },
  {
   "cell_type": "markdown",
   "metadata": {},
   "source": [
    "### Future Improvements\n",
    "\n",
    "- Average values of Q(s, a) with some distance-dependent discount for unvisited states s"
   ]
  },
  {
   "cell_type": "code",
   "execution_count": null,
   "metadata": {},
   "outputs": [],
   "source": []
  }
 ],
 "metadata": {
  "kernelspec": {
   "display_name": "venv",
   "language": "python",
   "name": "python3"
  },
  "language_info": {
   "codemirror_mode": {
    "name": "ipython",
    "version": 3
   },
   "file_extension": ".py",
   "mimetype": "text/x-python",
   "name": "python",
   "nbconvert_exporter": "python",
   "pygments_lexer": "ipython3",
   "version": "3.11.1"
  }
 },
 "nbformat": 4,
 "nbformat_minor": 2
}
